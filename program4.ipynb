{
 "cells": [
  {
   "cell_type": "code",
   "execution_count": 1,
   "id": "bd4b476b-4e34-4133-9fac-174e7846b036",
   "metadata": {},
   "outputs": [],
   "source": [
    "import pandas as pd\n",
    "\n",
    "data = pd.read_csv(r\"C:\\Users\\Bhumi\\OneDrive\\Desktop\\6th sem\\ML LAB\\training_data.csv\")\n"
   ]
  },
  {
   "cell_type": "code",
   "execution_count": 2,
   "id": "50329c2f-4621-4bf2-80d4-04d33570a1d8",
   "metadata": {},
   "outputs": [
    {
     "name": "stdout",
     "output_type": "stream",
     "text": [
      "  Experience Qualification   Skill  Age Hired\n",
      "0        Yes       Masters  Python   30   Yes\n",
      "1        Yes     Bachelors  Python   25   Yes\n",
      "2         No     Bachelors    Java   28    No\n",
      "3        Yes       Masters    Java   40   Yes\n",
      "4         No       Masters  Python   35    No\n"
     ]
    }
   ],
   "source": [
    "print(data)"
   ]
  },
  {
   "cell_type": "code",
   "execution_count": 5,
   "id": "ad449bac-67a4-4bb5-918a-a96617ca860c",
   "metadata": {},
   "outputs": [
    {
     "name": "stdout",
     "output_type": "stream",
     "text": [
      "Most Specific Hypothesis: ['Yes' '?' '?' '?']\n"
     ]
    }
   ],
   "source": [
    "def find_s_algorithm(data):\n",
    "    \"\"\"Implements the Find-S algorithm to find the most specific hypothesis.\"\"\"\n",
    "    \n",
    "    # Extract feature columns and target column\n",
    "    attributes = data.iloc[:, :-1].values  # All columns except last\n",
    "    target = data.iloc[:, -1].values       # Last column (class labels)\n",
    "\n",
    "    # Step 1: Initialize hypothesis with first positive example\n",
    "    for i in range(len(target)):\n",
    "        if target[i].lower() == \"yes\":     # Case-insensitive match\n",
    "            hypothesis = attributes[i].copy()\n",
    "            break\n",
    "\n",
    "    # Step 2: Update hypothesis based on other positive examples\n",
    "    for i in range(len(target)):\n",
    "        if target[i].lower() == \"yes\":\n",
    "            for j in range(len(hypothesis)):\n",
    "                if hypothesis[j] != attributes[i][j]:\n",
    "                    hypothesis[j] = '?'  # Generalize inconsistent attributes\n",
    "\n",
    "    return hypothesis\n",
    "\n",
    "# Run Find-S Algorithm\n",
    "final_hypothesis = find_s_algorithm(data)\n",
    "\n",
    "# Print the learned hypothesis\n",
    "print(\"Most Specific Hypothesis:\", final_hypothesis)\n"
   ]
  },
  {
   "cell_type": "code",
   "execution_count": null,
   "id": "e7723b02-529b-4741-85a3-af77052f4921",
   "metadata": {},
   "outputs": [],
   "source": []
  }
 ],
 "metadata": {
  "kernelspec": {
   "display_name": "Python 3 (ipykernel)",
   "language": "python",
   "name": "python3"
  },
  "language_info": {
   "codemirror_mode": {
    "name": "ipython",
    "version": 3
   },
   "file_extension": ".py",
   "mimetype": "text/x-python",
   "name": "python",
   "nbconvert_exporter": "python",
   "pygments_lexer": "ipython3",
   "version": "3.13.2"
  }
 },
 "nbformat": 4,
 "nbformat_minor": 5
}
