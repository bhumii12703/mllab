{
 "cells": [
  {
   "cell_type": "code",
   "execution_count": 1,
   "id": "7a2d9de4-a0db-473e-91bc-161d8ae85bf7",
   "metadata": {},
   "outputs": [],
   "source": [
    "import numpy as np\n",
    "import pandas as pd\n",
    "import matplotlib.pyplot as plt\n",
    "import seaborn as sns\n",
    "from sklearn.model_selection import train_test_split\n",
    "from sklearn.neighbors import KNeighborsClassifier\n",
    "from sklearn.metrics import accuracy_score\n",
    "import warnings\n",
    "warnings.filterwarnings('ignore')\n"
   ]
  },
  {
   "cell_type": "code",
   "execution_count": 2,
   "id": "eb9dcb99-b7a5-4cf7-8ca0-16863fabf1e2",
   "metadata": {},
   "outputs": [],
   "source": [
    "# Step 1: Generate dataset\n",
    "np.random.seed(42)\n",
    "values = np.random.rand(100)\n"
   ]
  },
  {
   "cell_type": "code",
   "execution_count": 3,
   "id": "04853546-cb1c-4065-964c-4c7d1f6e32b5",
   "metadata": {},
   "outputs": [],
   "source": [
    "labels = []\n",
    "for i in values[:50]:\n",
    "    if i <=0.5:\n",
    "        labels.append('Class1')\n",
    "    else:\n",
    "        labels.append('Class2')\n"
   ]
  },
  {
   "cell_type": "code",
   "execution_count": 4,
   "id": "3c5cf13a-f64f-4208-af42-9df9bba1e0ed",
   "metadata": {},
   "outputs": [],
   "source": [
    "labels += [None] * 50"
   ]
  },
  {
   "cell_type": "code",
   "execution_count": 5,
   "id": "9da784d6-7e72-4062-a40b-51b5f67c5938",
   "metadata": {},
   "outputs": [
    {
     "name": "stdout",
     "output_type": "stream",
     "text": [
      "['Class1', 'Class2', 'Class2', 'Class2', 'Class1', 'Class1', 'Class1', 'Class2', 'Class2', 'Class2', 'Class1', 'Class2', 'Class2', 'Class1', 'Class1', 'Class1', 'Class1', 'Class2', 'Class1', 'Class1', 'Class2', 'Class1', 'Class1', 'Class1', 'Class1', 'Class2', 'Class1', 'Class2', 'Class2', 'Class1', 'Class2', 'Class1', 'Class1', 'Class2', 'Class2', 'Class2', 'Class1', 'Class1', 'Class2', 'Class1', 'Class1', 'Class1', 'Class1', 'Class2', 'Class1', 'Class2', 'Class1', 'Class2', 'Class2', 'Class1', None, None, None, None, None, None, None, None, None, None, None, None, None, None, None, None, None, None, None, None, None, None, None, None, None, None, None, None, None, None, None, None, None, None, None, None, None, None, None, None, None, None, None, None, None, None, None, None, None, None]\n"
     ]
    }
   ],
   "source": [
    "print(labels)"
   ]
  },
  {
   "cell_type": "code",
   "execution_count": 6,
   "id": "34e4d66d-6900-4f5c-88be-1d0b3f48f726",
   "metadata": {},
   "outputs": [],
   "source": [
    "data = {\n",
    "\"Point\": [f\"x{i+1}\" for i in range(100)], \n",
    "    \"Value\": values,\n",
    "    \"Label\": labels\n",
    "}\n"
   ]
  },
  {
   "cell_type": "code",
   "execution_count": 7,
   "id": "5fb60c80-b856-4840-8423-2fdfdbe9257d",
   "metadata": {},
   "outputs": [],
   "source": [
    "df=pd.DataFrame(data)"
   ]
  },
  {
   "cell_type": "code",
   "execution_count": 8,
   "id": "f172f89d-d4c8-49e4-a030-9e9e432e153e",
   "metadata": {},
   "outputs": [
    {
     "data": {
      "text/html": [
       "<div>\n",
       "<style scoped>\n",
       "    .dataframe tbody tr th:only-of-type {\n",
       "        vertical-align: middle;\n",
       "    }\n",
       "\n",
       "    .dataframe tbody tr th {\n",
       "        vertical-align: top;\n",
       "    }\n",
       "\n",
       "    .dataframe thead th {\n",
       "        text-align: right;\n",
       "    }\n",
       "</style>\n",
       "<table border=\"1\" class=\"dataframe\">\n",
       "  <thead>\n",
       "    <tr style=\"text-align: right;\">\n",
       "      <th></th>\n",
       "      <th>Point</th>\n",
       "      <th>Value</th>\n",
       "      <th>Label</th>\n",
       "    </tr>\n",
       "  </thead>\n",
       "  <tbody>\n",
       "    <tr>\n",
       "      <th>0</th>\n",
       "      <td>x1</td>\n",
       "      <td>0.374540</td>\n",
       "      <td>Class1</td>\n",
       "    </tr>\n",
       "    <tr>\n",
       "      <th>1</th>\n",
       "      <td>x2</td>\n",
       "      <td>0.950714</td>\n",
       "      <td>Class2</td>\n",
       "    </tr>\n",
       "    <tr>\n",
       "      <th>2</th>\n",
       "      <td>x3</td>\n",
       "      <td>0.731994</td>\n",
       "      <td>Class2</td>\n",
       "    </tr>\n",
       "    <tr>\n",
       "      <th>3</th>\n",
       "      <td>x4</td>\n",
       "      <td>0.598658</td>\n",
       "      <td>Class2</td>\n",
       "    </tr>\n",
       "    <tr>\n",
       "      <th>4</th>\n",
       "      <td>x5</td>\n",
       "      <td>0.156019</td>\n",
       "      <td>Class1</td>\n",
       "    </tr>\n",
       "  </tbody>\n",
       "</table>\n",
       "</div>"
      ],
      "text/plain": [
       "  Point     Value   Label\n",
       "0    x1  0.374540  Class1\n",
       "1    x2  0.950714  Class2\n",
       "2    x3  0.731994  Class2\n",
       "3    x4  0.598658  Class2\n",
       "4    x5  0.156019  Class1"
      ]
     },
     "execution_count": 8,
     "metadata": {},
     "output_type": "execute_result"
    }
   ],
   "source": [
    "df.head()"
   ]
  },
  {
   "cell_type": "code",
   "execution_count": 9,
   "id": "b40da28a-f93b-4521-b75e-8ae4c5374ed8",
   "metadata": {},
   "outputs": [
    {
     "name": "stdout",
     "output_type": "stream",
     "text": [
      "\n",
      "Variable Meaning Table:\n",
      "  Feature              Descrption\n",
      "0   Point        The point number\n",
      "1   Value  The value of the point\n",
      "2   Label  The class of the point\n"
     ]
    }
   ],
   "source": [
    "# Table of Meaning of Each Variable\n",
    "variable_meaning = {\n",
    "\"Point\": \"The point number\",\n",
    "\"Value\": \"The value of the point\", \"Label\": \"The class of the point\"\n",
    "}\n",
    "variable_df = pd.DataFrame(list(variable_meaning.items()), columns=[\"Feature\",\"Descrption\"])\n",
    "print(\"\\nVariable Meaning Table:\")\n",
    "print(variable_df)\n"
   ]
  },
  {
   "cell_type": "code",
   "execution_count": 10,
   "id": "a7f284d0-27fb-4bd8-b526-580e5b2cc4e3",
   "metadata": {},
   "outputs": [
    {
     "data": {
      "text/plain": [
       "Point    100\n",
       "Value    100\n",
       "Label      2\n",
       "dtype: int64"
      ]
     },
     "execution_count": 10,
     "metadata": {},
     "output_type": "execute_result"
    }
   ],
   "source": [
    "df.nunique()"
   ]
  },
  {
   "cell_type": "code",
   "execution_count": 11,
   "id": "731a2fb5-8479-4e3c-807b-7bb3b4b1f93a",
   "metadata": {},
   "outputs": [
    {
     "data": {
      "text/plain": [
       "(100, 3)"
      ]
     },
     "execution_count": 11,
     "metadata": {},
     "output_type": "execute_result"
    }
   ],
   "source": [
    "df.shape"
   ]
  },
  {
   "cell_type": "code",
   "execution_count": 12,
   "id": "5da75db7-acb5-4c3a-b8fc-637947555fd6",
   "metadata": {},
   "outputs": [
    {
     "name": "stdout",
     "output_type": "stream",
     "text": [
      "<class 'pandas.core.frame.DataFrame'>\n",
      "RangeIndex: 100 entries, 0 to 99\n",
      "Data columns (total 3 columns):\n",
      " #   Column  Non-Null Count  Dtype  \n",
      "---  ------  --------------  -----  \n",
      " 0   Point   100 non-null    object \n",
      " 1   Value   100 non-null    float64\n",
      " 2   Label   50 non-null     object \n",
      "dtypes: float64(1), object(2)\n",
      "memory usage: 2.5+ KB\n"
     ]
    }
   ],
   "source": [
    "df.info()"
   ]
  },
  {
   "cell_type": "code",
   "execution_count": 13,
   "id": "4331c015-5e7e-4ac6-b277-9ac5336163cb",
   "metadata": {},
   "outputs": [
    {
     "data": {
      "text/html": [
       "<div>\n",
       "<style scoped>\n",
       "    .dataframe tbody tr th:only-of-type {\n",
       "        vertical-align: middle;\n",
       "    }\n",
       "\n",
       "    .dataframe tbody tr th {\n",
       "        vertical-align: top;\n",
       "    }\n",
       "\n",
       "    .dataframe thead th {\n",
       "        text-align: right;\n",
       "    }\n",
       "</style>\n",
       "<table border=\"1\" class=\"dataframe\">\n",
       "  <thead>\n",
       "    <tr style=\"text-align: right;\">\n",
       "      <th></th>\n",
       "      <th>count</th>\n",
       "      <th>mean</th>\n",
       "      <th>std</th>\n",
       "      <th>min</th>\n",
       "      <th>25%</th>\n",
       "      <th>50%</th>\n",
       "      <th>75%</th>\n",
       "      <th>max</th>\n",
       "    </tr>\n",
       "  </thead>\n",
       "  <tbody>\n",
       "    <tr>\n",
       "      <th>Value</th>\n",
       "      <td>100.0</td>\n",
       "      <td>0.470181</td>\n",
       "      <td>0.297489</td>\n",
       "      <td>0.005522</td>\n",
       "      <td>0.193201</td>\n",
       "      <td>0.464142</td>\n",
       "      <td>0.730203</td>\n",
       "      <td>0.986887</td>\n",
       "    </tr>\n",
       "  </tbody>\n",
       "</table>\n",
       "</div>"
      ],
      "text/plain": [
       "       count      mean       std       min       25%       50%       75%  \\\n",
       "Value  100.0  0.470181  0.297489  0.005522  0.193201  0.464142  0.730203   \n",
       "\n",
       "            max  \n",
       "Value  0.986887  "
      ]
     },
     "execution_count": 13,
     "metadata": {},
     "output_type": "execute_result"
    }
   ],
   "source": [
    "df.describe().T"
   ]
  },
  {
   "cell_type": "code",
   "execution_count": 15,
   "id": "93fef2e0-ea05-4ed3-a2c6-371a766fa7d8",
   "metadata": {},
   "outputs": [
    {
     "name": "stdout",
     "output_type": "stream",
     "text": [
      "\n",
      "-\tThe 'Value' column has a mean of approximately 0.47, indicating that the values a\n",
      "-\tThe standard deviation of the 'Value' column is approximately 0.29, showing a mod\n",
      "-\tThe minimum value in the 'Value' column is approximately 0.0055, and the maximum\n",
      "-\tThe first quartile (25th percentile) is approximately 0.19, the median (50th percentile)\n"
     ]
    }
   ],
   "source": [
    "Summary_Statistics=\"\"\"\n",
    "-\tThe 'Value' column has a mean of approximately 0.47, indicating that the values a\n",
    "-\tThe standard deviation of the 'Value' column is approximately 0.29, showing a mod\n",
    "-\tThe minimum value in the 'Value' column is approximately 0.0055, and the maximum\n",
    "-\tThe first quartile (25th percentile) is approximately 0.19, the median (50th percentile)\"\"\"\n",
    "print(Summary_Statistics)\n"
   ]
  },
  {
   "cell_type": "code",
   "execution_count": 16,
   "id": "2855faca-b805-4a65-b563-b54d66391f31",
   "metadata": {},
   "outputs": [
    {
     "data": {
      "text/plain": [
       "Point     0\n",
       "Value     0\n",
       "Label    50\n",
       "dtype: int64"
      ]
     },
     "execution_count": 16,
     "metadata": {},
     "output_type": "execute_result"
    }
   ],
   "source": [
    "df.isnull().sum()"
   ]
  },
  {
   "cell_type": "code",
   "execution_count": 18,
   "id": "eadbbfbc-fcc2-4836-a524-975a92050881",
   "metadata": {},
   "outputs": [
    {
     "data": {
      "image/png": "[encoded data removed]",
      "text/plain": [
       "<Figure size 1200x800 with 1 Axes>"
      ]
     },
     "metadata": {},
     "output_type": "display_data"
    }
   ],
   "source": [
    "num_col = df.select_dtypes(include=['int', 'float']).columns\n",
    "\n",
    "# Histograms for distribution of features\n",
    "df[num_col].hist(figsize=(12, 8), bins=30, edgecolor='black')\n",
    "plt.suptitle(\"Feature Distributions\", fontsize=16) \n",
    "plt.show()\n"
   ]
  },
  {
   "cell_type": "code",
   "execution_count": 19,
   "id": "c880469a-a382-4db5-9492-90ff1d278978",
   "metadata": {},
   "outputs": [],
   "source": [
    "labeled_df = df[df[\"Label\"].notna()] \n",
    "X_train = labeled_df[[\"Value\"]]\n",
    "y_train = labeled_df[\"Label\"]\n"
   ]
  },
  {
   "cell_type": "code",
   "execution_count": 20,
   "id": "9b1fe05c-ab78-4acc-a38a-0e1f8757aed8",
   "metadata": {},
   "outputs": [],
   "source": [
    "unlabeled_df = df[df[\"Label\"].isna()]\n",
    "X_test = unlabeled_df[[\"Value\"]]"
   ]
  },
  {
   "cell_type": "code",
   "execution_count": 21,
   "id": "6caff31b-2ed5-4bbe-85d9-2dd9e6372a51",
   "metadata": {},
   "outputs": [],
   "source": [
    "# Generate true labels for testing (for accuracy calculation)\n",
    "true_labels = [\"Class1\" if x <= 0.5 else \"Class2\" for x in values[50:]]\n"
   ]
  },
  {
   "cell_type": "code",
   "execution_count": 23,
   "id": "5e4e6ec2-6dd9-4232-8980-5949733d8e3d",
   "metadata": {},
   "outputs": [],
   "source": [
    "# Step 2: Perform KNN classification for different values of k\n",
    "k_values = [1, 2, 3, 4, 5, 20, 30] \n",
    "results = {}\n",
    "accuracies = {}\n"
   ]
  },
  {
   "cell_type": "code",
   "execution_count": 25,
   "id": "434f5657-f001-42b4-bcb8-bf11eb2224ed",
   "metadata": {},
   "outputs": [
    {
     "name": "stdout",
     "output_type": "stream",
     "text": [
      "Accuracy for k=30: 100.00%\n"
     ]
    }
   ],
   "source": [
    "for k in k_values:\n",
    "    knn = KNeighborsClassifier(n_neighbors=k)\n",
    "    knn.fit(X_train, y_train)\n",
    "    predictions = knn.predict(X_test) \n",
    "    results[k] = predictions\n",
    "\n",
    "# Calculate accuracy\n",
    "accuracy = accuracy_score(true_labels, predictions) * 100 \n",
    "accuracies[k] = accuracy\n",
    "print(f\"Accuracy for k={k}: {accuracy:.2f}%\")\n",
    "\n",
    "# Assign predictions back to the DataFrame for this k\n",
    "unlabeled_df[f\"Label_k{k}\"] = predictions\n"
   ]
  },
  {
   "cell_type": "code",
   "execution_count": 26,
   "id": "c10fde17-df83-410f-a169-1befc756c0a3",
   "metadata": {},
   "outputs": [
    {
     "name": "stdout",
     "output_type": "stream",
     "text": [
      "['Class2' 'Class2' 'Class2' 'Class2' 'Class2' 'Class2' 'Class1' 'Class1'\n",
      " 'Class1' 'Class1' 'Class1' 'Class1' 'Class2' 'Class1' 'Class1' 'Class2'\n",
      " 'Class1' 'Class2' 'Class1' 'Class2' 'Class2' 'Class1' 'Class1' 'Class2'\n",
      " 'Class2' 'Class2' 'Class2' 'Class1' 'Class1' 'Class1' 'Class2' 'Class2'\n",
      " 'Class1' 'Class1' 'Class1' 'Class1' 'Class2' 'Class2' 'Class2' 'Class1'\n",
      " 'Class1' 'Class2' 'Class2' 'Class2' 'Class2' 'Class1' 'Class2' 'Class1'\n",
      " 'Class1' 'Class1']\n"
     ]
    }
   ],
   "source": [
    "print(predictions)"
   ]
  },
  {
   "cell_type": "code",
   "execution_count": 27,
   "id": "d647ae64-1dd8-4769-8d7a-7fd87b9703f6",
   "metadata": {},
   "outputs": [
    {
     "data": {
      "text/html": [
       "<div>\n",
       "<style scoped>\n",
       "    .dataframe tbody tr th:only-of-type {\n",
       "        vertical-align: middle;\n",
       "    }\n",
       "\n",
       "    .dataframe tbody tr th {\n",
       "        vertical-align: top;\n",
       "    }\n",
       "\n",
       "    .dataframe thead th {\n",
       "        text-align: right;\n",
       "    }\n",
       "</style>\n",
       "<table border=\"1\" class=\"dataframe\">\n",
       "  <thead>\n",
       "    <tr style=\"text-align: right;\">\n",
       "      <th></th>\n",
       "      <th>Point</th>\n",
       "      <th>Value</th>\n",
       "      <th>Label_k30</th>\n",
       "    </tr>\n",
       "  </thead>\n",
       "  <tbody>\n",
       "    <tr>\n",
       "      <th>50</th>\n",
       "      <td>x51</td>\n",
       "      <td>0.969585</td>\n",
       "      <td>Class2</td>\n",
       "    </tr>\n",
       "    <tr>\n",
       "      <th>51</th>\n",
       "      <td>x52</td>\n",
       "      <td>0.775133</td>\n",
       "      <td>Class2</td>\n",
       "    </tr>\n",
       "    <tr>\n",
       "      <th>52</th>\n",
       "      <td>x53</td>\n",
       "      <td>0.939499</td>\n",
       "      <td>Class2</td>\n",
       "    </tr>\n",
       "    <tr>\n",
       "      <th>53</th>\n",
       "      <td>x54</td>\n",
       "      <td>0.894827</td>\n",
       "      <td>Class2</td>\n",
       "    </tr>\n",
       "    <tr>\n",
       "      <th>54</th>\n",
       "      <td>x55</td>\n",
       "      <td>0.597900</td>\n",
       "      <td>Class2</td>\n",
       "    </tr>\n",
       "    <tr>\n",
       "      <th>55</th>\n",
       "      <td>x56</td>\n",
       "      <td>0.921874</td>\n",
       "      <td>Class2</td>\n",
       "    </tr>\n",
       "    <tr>\n",
       "      <th>56</th>\n",
       "      <td>x57</td>\n",
       "      <td>0.088493</td>\n",
       "      <td>Class1</td>\n",
       "    </tr>\n",
       "    <tr>\n",
       "      <th>57</th>\n",
       "      <td>x58</td>\n",
       "      <td>0.195983</td>\n",
       "      <td>Class1</td>\n",
       "    </tr>\n",
       "    <tr>\n",
       "      <th>58</th>\n",
       "      <td>x59</td>\n",
       "      <td>0.045227</td>\n",
       "      <td>Class1</td>\n",
       "    </tr>\n",
       "    <tr>\n",
       "      <th>59</th>\n",
       "      <td>x60</td>\n",
       "      <td>0.325330</td>\n",
       "      <td>Class1</td>\n",
       "    </tr>\n",
       "    <tr>\n",
       "      <th>60</th>\n",
       "      <td>x61</td>\n",
       "      <td>0.388677</td>\n",
       "      <td>Class1</td>\n",
       "    </tr>\n",
       "    <tr>\n",
       "      <th>61</th>\n",
       "      <td>x62</td>\n",
       "      <td>0.271349</td>\n",
       "      <td>Class1</td>\n",
       "    </tr>\n",
       "    <tr>\n",
       "      <th>62</th>\n",
       "      <td>x63</td>\n",
       "      <td>0.828738</td>\n",
       "      <td>Class2</td>\n",
       "    </tr>\n",
       "    <tr>\n",
       "      <th>63</th>\n",
       "      <td>x64</td>\n",
       "      <td>0.356753</td>\n",
       "      <td>Class1</td>\n",
       "    </tr>\n",
       "    <tr>\n",
       "      <th>64</th>\n",
       "      <td>x65</td>\n",
       "      <td>0.280935</td>\n",
       "      <td>Class1</td>\n",
       "    </tr>\n",
       "    <tr>\n",
       "      <th>65</th>\n",
       "      <td>x66</td>\n",
       "      <td>0.542696</td>\n",
       "      <td>Class2</td>\n",
       "    </tr>\n",
       "    <tr>\n",
       "      <th>66</th>\n",
       "      <td>x67</td>\n",
       "      <td>0.140924</td>\n",
       "      <td>Class1</td>\n",
       "    </tr>\n",
       "    <tr>\n",
       "      <th>67</th>\n",
       "      <td>x68</td>\n",
       "      <td>0.802197</td>\n",
       "      <td>Class2</td>\n",
       "    </tr>\n",
       "    <tr>\n",
       "      <th>68</th>\n",
       "      <td>x69</td>\n",
       "      <td>0.074551</td>\n",
       "      <td>Class1</td>\n",
       "    </tr>\n",
       "    <tr>\n",
       "      <th>69</th>\n",
       "      <td>x70</td>\n",
       "      <td>0.986887</td>\n",
       "      <td>Class2</td>\n",
       "    </tr>\n",
       "    <tr>\n",
       "      <th>70</th>\n",
       "      <td>x71</td>\n",
       "      <td>0.772245</td>\n",
       "      <td>Class2</td>\n",
       "    </tr>\n",
       "    <tr>\n",
       "      <th>71</th>\n",
       "      <td>x72</td>\n",
       "      <td>0.198716</td>\n",
       "      <td>Class1</td>\n",
       "    </tr>\n",
       "    <tr>\n",
       "      <th>72</th>\n",
       "      <td>x73</td>\n",
       "      <td>0.005522</td>\n",
       "      <td>Class1</td>\n",
       "    </tr>\n",
       "    <tr>\n",
       "      <th>73</th>\n",
       "      <td>x74</td>\n",
       "      <td>0.815461</td>\n",
       "      <td>Class2</td>\n",
       "    </tr>\n",
       "    <tr>\n",
       "      <th>74</th>\n",
       "      <td>x75</td>\n",
       "      <td>0.706857</td>\n",
       "      <td>Class2</td>\n",
       "    </tr>\n",
       "    <tr>\n",
       "      <th>75</th>\n",
       "      <td>x76</td>\n",
       "      <td>0.729007</td>\n",
       "      <td>Class2</td>\n",
       "    </tr>\n",
       "    <tr>\n",
       "      <th>76</th>\n",
       "      <td>x77</td>\n",
       "      <td>0.771270</td>\n",
       "      <td>Class2</td>\n",
       "    </tr>\n",
       "    <tr>\n",
       "      <th>77</th>\n",
       "      <td>x78</td>\n",
       "      <td>0.074045</td>\n",
       "      <td>Class1</td>\n",
       "    </tr>\n",
       "    <tr>\n",
       "      <th>78</th>\n",
       "      <td>x79</td>\n",
       "      <td>0.358466</td>\n",
       "      <td>Class1</td>\n",
       "    </tr>\n",
       "    <tr>\n",
       "      <th>79</th>\n",
       "      <td>x80</td>\n",
       "      <td>0.115869</td>\n",
       "      <td>Class1</td>\n",
       "    </tr>\n",
       "    <tr>\n",
       "      <th>80</th>\n",
       "      <td>x81</td>\n",
       "      <td>0.863103</td>\n",
       "      <td>Class2</td>\n",
       "    </tr>\n",
       "    <tr>\n",
       "      <th>81</th>\n",
       "      <td>x82</td>\n",
       "      <td>0.623298</td>\n",
       "      <td>Class2</td>\n",
       "    </tr>\n",
       "    <tr>\n",
       "      <th>82</th>\n",
       "      <td>x83</td>\n",
       "      <td>0.330898</td>\n",
       "      <td>Class1</td>\n",
       "    </tr>\n",
       "    <tr>\n",
       "      <th>83</th>\n",
       "      <td>x84</td>\n",
       "      <td>0.063558</td>\n",
       "      <td>Class1</td>\n",
       "    </tr>\n",
       "    <tr>\n",
       "      <th>84</th>\n",
       "      <td>x85</td>\n",
       "      <td>0.310982</td>\n",
       "      <td>Class1</td>\n",
       "    </tr>\n",
       "    <tr>\n",
       "      <th>85</th>\n",
       "      <td>x86</td>\n",
       "      <td>0.325183</td>\n",
       "      <td>Class1</td>\n",
       "    </tr>\n",
       "    <tr>\n",
       "      <th>86</th>\n",
       "      <td>x87</td>\n",
       "      <td>0.729606</td>\n",
       "      <td>Class2</td>\n",
       "    </tr>\n",
       "    <tr>\n",
       "      <th>87</th>\n",
       "      <td>x88</td>\n",
       "      <td>0.637557</td>\n",
       "      <td>Class2</td>\n",
       "    </tr>\n",
       "    <tr>\n",
       "      <th>88</th>\n",
       "      <td>x89</td>\n",
       "      <td>0.887213</td>\n",
       "      <td>Class2</td>\n",
       "    </tr>\n",
       "    <tr>\n",
       "      <th>89</th>\n",
       "      <td>x90</td>\n",
       "      <td>0.472215</td>\n",
       "      <td>Class1</td>\n",
       "    </tr>\n",
       "    <tr>\n",
       "      <th>90</th>\n",
       "      <td>x91</td>\n",
       "      <td>0.119594</td>\n",
       "      <td>Class1</td>\n",
       "    </tr>\n",
       "    <tr>\n",
       "      <th>91</th>\n",
       "      <td>x92</td>\n",
       "      <td>0.713245</td>\n",
       "      <td>Class2</td>\n",
       "    </tr>\n",
       "    <tr>\n",
       "      <th>92</th>\n",
       "      <td>x93</td>\n",
       "      <td>0.760785</td>\n",
       "      <td>Class2</td>\n",
       "    </tr>\n",
       "    <tr>\n",
       "      <th>93</th>\n",
       "      <td>x94</td>\n",
       "      <td>0.561277</td>\n",
       "      <td>Class2</td>\n",
       "    </tr>\n",
       "    <tr>\n",
       "      <th>94</th>\n",
       "      <td>x95</td>\n",
       "      <td>0.770967</td>\n",
       "      <td>Class2</td>\n",
       "    </tr>\n",
       "    <tr>\n",
       "      <th>95</th>\n",
       "      <td>x96</td>\n",
       "      <td>0.493796</td>\n",
       "      <td>Class1</td>\n",
       "    </tr>\n",
       "    <tr>\n",
       "      <th>96</th>\n",
       "      <td>x97</td>\n",
       "      <td>0.522733</td>\n",
       "      <td>Class2</td>\n",
       "    </tr>\n",
       "    <tr>\n",
       "      <th>97</th>\n",
       "      <td>x98</td>\n",
       "      <td>0.427541</td>\n",
       "      <td>Class1</td>\n",
       "    </tr>\n",
       "    <tr>\n",
       "      <th>98</th>\n",
       "      <td>x99</td>\n",
       "      <td>0.025419</td>\n",
       "      <td>Class1</td>\n",
       "    </tr>\n",
       "    <tr>\n",
       "      <th>99</th>\n",
       "      <td>x100</td>\n",
       "      <td>0.107891</td>\n",
       "      <td>Class1</td>\n",
       "    </tr>\n",
       "  </tbody>\n",
       "</table>\n",
       "</div>"
      ],
      "text/plain": [
       "   Point     Value Label_k30\n",
       "50   x51  0.969585    Class2\n",
       "51   x52  0.775133    Class2\n",
       "52   x53  0.939499    Class2\n",
       "53   x54  0.894827    Class2\n",
       "54   x55  0.597900    Class2\n",
       "55   x56  0.921874    Class2\n",
       "56   x57  0.088493    Class1\n",
       "57   x58  0.195983    Class1\n",
       "58   x59  0.045227    Class1\n",
       "59   x60  0.325330    Class1\n",
       "60   x61  0.388677    Class1\n",
       "61   x62  0.271349    Class1\n",
       "62   x63  0.828738    Class2\n",
       "63   x64  0.356753    Class1\n",
       "64   x65  0.280935    Class1\n",
       "65   x66  0.542696    Class2\n",
       "66   x67  0.140924    Class1\n",
       "67   x68  0.802197    Class2\n",
       "68   x69  0.074551    Class1\n",
       "69   x70  0.986887    Class2\n",
       "70   x71  0.772245    Class2\n",
       "71   x72  0.198716    Class1\n",
       "72   x73  0.005522    Class1\n",
       "73   x74  0.815461    Class2\n",
       "74   x75  0.706857    Class2\n",
       "75   x76  0.729007    Class2\n",
       "76   x77  0.771270    Class2\n",
       "77   x78  0.074045    Class1\n",
       "78   x79  0.358466    Class1\n",
       "79   x80  0.115869    Class1\n",
       "80   x81  0.863103    Class2\n",
       "81   x82  0.623298    Class2\n",
       "82   x83  0.330898    Class1\n",
       "83   x84  0.063558    Class1\n",
       "84   x85  0.310982    Class1\n",
       "85   x86  0.325183    Class1\n",
       "86   x87  0.729606    Class2\n",
       "87   x88  0.637557    Class2\n",
       "88   x89  0.887213    Class2\n",
       "89   x90  0.472215    Class1\n",
       "90   x91  0.119594    Class1\n",
       "91   x92  0.713245    Class2\n",
       "92   x93  0.760785    Class2\n",
       "93   x94  0.561277    Class2\n",
       "94   x95  0.770967    Class2\n",
       "95   x96  0.493796    Class1\n",
       "96   x97  0.522733    Class2\n",
       "97   x98  0.427541    Class1\n",
       "98   x99  0.025419    Class1\n",
       "99  x100  0.107891    Class1"
      ]
     },
     "execution_count": 27,
     "metadata": {},
     "output_type": "execute_result"
    }
   ],
   "source": [
    "df1 = unlabeled_df.drop(columns=['Label'], axis=1)\n",
    "df1"
   ]
  },
  {
   "cell_type": "code",
   "execution_count": 28,
   "id": "8d3de2ea-45ef-4b6b-9e4c-6b971f43b40e",
   "metadata": {},
   "outputs": [
    {
     "name": "stdout",
     "output_type": "stream",
     "text": [
      "\n",
      "Accuracies for different k values:\n",
      "k=30: 100.00%\n"
     ]
    }
   ],
   "source": [
    "print(\"\\nAccuracies for different k values:\")\n",
    "for k, acc in accuracies.items(): \n",
    "    print(f\"k={k}: {acc:.2f}%\")\n"
   ]
  },
  {
   "cell_type": "code",
   "execution_count": null,
   "id": "aa21ef12-0d28-4933-8142-b8a9cc5942e1",
   "metadata": {},
   "outputs": [],
   "source": []
  }
 ],
 "metadata": {
  "kernelspec": {
   "display_name": "Python 3 (ipykernel)",
   "language": "python",
   "name": "python3"
  },
  "language_info": {
   "codemirror_mode": {
    "name": "ipython",
    "version": 3
   },
   "file_extension": ".py",
   "mimetype": "text/x-python",
   "name": "python",
   "nbconvert_exporter": "python",
   "pygments_lexer": "ipython3",
   "version": "3.13.2"
  }
 },
 "nbformat": 4,
 "nbformat_minor": 5
}
